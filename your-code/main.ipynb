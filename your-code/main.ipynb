{
 "cells": [
  {
   "cell_type": "markdown",
   "metadata": {},
   "source": [
    "# Probability"
   ]
  },
  {
   "cell_type": "markdown",
   "metadata": {},
   "source": [
    "## Challenge 1\n",
    "There is a box with 10 white balls, 12 red balls and 8 black balls. Calculate the probability of:\n",
    "* Taking a white ball out.\n",
    "* Taking a white ball on first extraction and a black ball out on second extraction without replacing the first one.\n",
    "* Taking a white ball on first extraction and a black ball out on second extraction replacing the first one.\n",
    "* Taking 3 balls and them being all different colours."
   ]
  },
  {
   "cell_type": "code",
   "execution_count": 19,
   "metadata": {},
   "outputs": [
    {
     "name": "stdout",
     "output_type": "stream",
     "text": [
      "Probability of taking a white ball out: 0.3333333333333333\n",
      "Probability of taking a white ball on the first extraction and a black ball out on the second extraction without replacing the first one: 0.09195402298850575\n",
      "Probability of taking a white ball on the first extraction and a black ball out on the second extraction replacing the first one: 0.08888888888888888\n"
     ]
    }
   ],
   "source": [
    "\n",
    "num_white = 10\n",
    "num_red = 12\n",
    "num_black = 8\n",
    "\n",
    "\n",
    "total_balls = num_white + num_red + num_black\n",
    "\n",
    "\n",
    "prob_white = num_white / total_balls\n",
    "print(\"Probability of taking a white ball out:\", prob_white)\n",
    "\n",
    "\n",
    "prob_white_then_black_wo_replace = prob_white * (num_black / (total_balls - 1))\n",
    "print(\"Probability of taking a white ball on the first extraction and a black ball out on the second extraction without replacing the first one:\", prob_white_then_black_wo_replace)\n",
    "\n",
    "\n",
    "print(\"Probability of taking a white ball on the first extraction and a black ball out on the second extraction replacing the first one:\", prob_white_then_black_w_replace)\n",
    "\n",
    "\n",
    "prob_3_diff_colors = (num_white / total_balls) * (num_red / (total_balls - 1)) * (num_black / (total_balls - 2))\n"
   ]
  },
  {
   "cell_type": "markdown",
   "metadata": {},
   "source": [
    "## Challenge 2\n",
    "\n",
    "You want to go on picnic on Saturday. You hate rain, and would know to plan your weekend. To help you make a decision, you gather the following data about rainy days:\n",
    "\n",
    "* 40% of all days are cloudy.\n",
    "* About 50% of cloudy days are rainy. \n",
    "* About 20% of non-cloudy days are rainy.\n",
    "\n",
    "What is the chance of rain during next Saturday?"
   ]
  },
  {
   "cell_type": "code",
   "execution_count": 20,
   "metadata": {},
   "outputs": [
    {
     "name": "stdout",
     "output_type": "stream",
     "text": [
      "The probability of rain on Saturday is: 0.32\n"
     ]
    }
   ],
   "source": [
    "\n",
    "P_C = 0.4\n",
    "\n",
    "\n",
    "P_R_given_C = 0.5\n",
    "\n",
    "\n",
    "P_R_given_not_C = 0.2\n",
    "\n",
    "\n",
    "P_not_C = 1 - P_C\n",
    "\n",
    "\n",
    "P_R = P_R_given_C * P_C + P_R_given_not_C * P_not_C\n",
    "\n",
    "print(\"The probability of rain on Saturday is:\", P_R)\n"
   ]
  },
  {
   "cell_type": "markdown",
   "metadata": {},
   "source": [
    "## Challenge 3\n",
    "\n",
    "A and B are events of a probability such that $P(A) = 0.3$, $P(B) = 0.6$ and $P(A \\cap B) = 0.1$\n",
    "\n",
    "Which of the following statements are true?  \n",
    "**HINT: draw a big Venn Diagram by your side**  \n",
    "* $P(\\overline{A}) = 0.7$\n",
    "* $P(A \\cup B) = 0.6$\n",
    "* $P(A \\cap \\overline{B}) = 0.2$\n",
    "* $P(A \\cup \\overline{A}) = 1$  \n",
    "* $P(A \\cap (B \\cup \\overline{B})) = 0.4$\n",
    "* $P(\\overline{A} \\cap \\overline{B}) = 0.3$\n",
    "* $P(\\overline{A \\cap B}) = 0.9$"
   ]
  },
  {
   "cell_type": "code",
   "execution_count": 21,
   "metadata": {},
   "outputs": [
    {
     "name": "stdout",
     "output_type": "stream",
     "text": [
      "P(A'):  0.7\n",
      "P(A U B):  0.7999999999999999\n",
      "P(A ∩ B'):  0.9\n",
      "P(A U A'):  1\n",
      "P(A ∩ (B U B')):  0.5\n",
      "P(A' ∩ B'):  0.9\n",
      "P(A ∩ B'):  0.9\n"
     ]
    }
   ],
   "source": [
    "\n",
    "P_A = 0.3\n",
    "P_B = 0.6\n",
    "P_A_intersect_B = 0.1\n",
    "\n",
    "\n",
    "P_A_complement = 1 - P_A\n",
    "P_A_union_B = P_A + P_B - P_A_intersect_B\n",
    "P_A_intersect_B_complement = 1 - P_A_intersect_B\n",
    "P_A_union_A_complement = 1\n",
    "P_A_intersect_B_union_B_complement = P_A_intersect_B + (1 - P_B)\n",
    "P_A_complement_intersect_B_complement = 1 - P_A_intersect_B\n",
    "\n",
    "\n",
    "print(\"P(A'): \", P_A_complement)\n",
    "print(\"P(A U B): \", P_A_union_B)\n",
    "print(\"P(A ∩ B'): \", P_A_intersect_B_complement)\n",
    "print(\"P(A U A'): \", P_A_union_A_complement)\n",
    "print(\"P(A ∩ (B U B')): \", P_A_intersect_B_union_B_complement)\n",
    "print(\"P(A' ∩ B'): \", P_A_complement_intersect_B_complement)\n",
    "print(\"P(A ∩ B'): \", 1 - P_A_intersect_B)\n"
   ]
  },
  {
   "cell_type": "markdown",
   "metadata": {},
   "source": [
    "## Challenge 4\n",
    "\n",
    " * If someone flies to China, the probability of getting Covid is 1%  \n",
    " * If someone flies to Italy, the probability of getting Covid is 20%  \n",
    "\n",
    "I roll 1 dice with numbers 1, 2, 3, 4, 5, 6:  \n",
    " * If 1: I fly to Italy\n",
    " * If not 1: I fly to China\n",
    "\n",
    "During my trip, I got Covid. What is the probability that I flew to China?"
   ]
  },
  {
   "cell_type": "code",
   "execution_count": 22,
   "metadata": {},
   "outputs": [
    {
     "name": "stdout",
     "output_type": "stream",
     "text": [
      "Probability of flying to China given Covid:  0.20000000000000004\n"
     ]
    }
   ],
   "source": [
    "\n",
    "P_covid_given_China = 0.01\n",
    "P_covid_given_Italy = 0.2\n",
    "P_China = 5/6 \n",
    "\n",
    "\n",
    "P_covid = P_covid_given_China * P_China + P_covid_given_Italy * (1 - P_China)\n",
    "P_China_given_covid = (P_covid_given_China * P_China) / P_covid\n",
    "\n",
    "\n",
    "print(\"Probability of flying to China given Covid: \", P_China_given_covid)\n"
   ]
  },
  {
   "cell_type": "markdown",
   "metadata": {},
   "source": [
    "## BONUS\n",
    "\n",
    "You roll 2 dice. What is the probability that the sum of the numbers is 7? And 8? And 9? Then simulate 10000 times and draw a countplot."
   ]
  },
  {
   "cell_type": "markdown",
   "metadata": {},
   "source": [
    "your explanation here"
   ]
  },
  {
   "cell_type": "code",
   "execution_count": 23,
   "metadata": {},
   "outputs": [
    {
     "name": "stdout",
     "output_type": "stream",
     "text": [
      "Probabilities:\n",
      "Sum of 2 : 0.027777777777777776\n",
      "Sum of 3 : 0.05555555555555555\n",
      "Sum of 4 : 0.08333333333333333\n",
      "Sum of 5 : 0.1111111111111111\n",
      "Sum of 6 : 0.1388888888888889\n",
      "Sum of 7 : 0.16666666666666666\n",
      "Sum of 8 : 0.1388888888888889\n",
      "Sum of 9 : 0.1111111111111111\n",
      "Sum of 10 : 0.08333333333333333\n",
      "Sum of 11 : 0.05555555555555555\n",
      "Sum of 12 : 0.027777777777777776\n"
     ]
    },
    {
     "data": {
      "image/png": "[encoded data removed]",
      "text/plain": [
       "<Figure size 432x288 with 1 Axes>"
      ]
     },
     "metadata": {
      "needs_background": "light"
     },
     "output_type": "display_data"
    }
   ],
   "source": [
    "import matplotlib.pyplot as plt\n",
    "import seaborn as sns\n",
    "import random\n",
    "\n",
    "\n",
    "probabilities = {}\n",
    "for i in range(2, 13):\n",
    "    count = 0\n",
    "    for j in range(1, 7):\n",
    "        if i - j >= 1 and i - j <= 6:\n",
    "            count += 1\n",
    "    prob = count / 36\n",
    "    probabilities[i] = prob\n",
    "\n",
    "print(\"Probabilities:\")\n",
    "for i in range(2, 13):\n",
    "    print(\"Sum of\", i, \":\", probabilities[i])\n",
    "\n",
    "\n",
    "results = []\n",
    "for i in range(10000):\n",
    "    dice1 = random.randint(1, 6)\n",
    "    dice2 = random.randint(1, 6)\n",
    "    results.append(dice1 + dice2)\n",
    "\n",
    "\n",
    "sns.countplot(x=results)\n",
    "plt.title(\"Distribution of dice rolls (n=10000)\")\n",
    "plt.xlabel(\"Sum of dice\")\n",
    "plt.ylabel(\"Count\")\n",
    "plt.show()\n"
   ]
  },
  {
   "cell_type": "code",
   "execution_count": null,
   "metadata": {},
   "outputs": [],
   "source": []
  }
 ],
 "metadata": {
  "kernelspec": {
   "display_name": "Python 3 (ipykernel)",
   "language": "python",
   "name": "python3"
  },
  "language_info": {
   "codemirror_mode": {
    "name": "ipython",
    "version": 3
   },
   "file_extension": ".py",
   "mimetype": "text/x-python",
   "name": "python",
   "nbconvert_exporter": "python",
   "pygments_lexer": "ipython3",
   "version": "3.9.12"
  },
  "toc": {
   "base_numbering": 1,
   "nav_menu": {},
   "number_sections": false,
   "sideBar": true,
   "skip_h1_title": false,
   "title_cell": "Table of Contents",
   "title_sidebar": "Contents",
   "toc_cell": false,
   "toc_position": {
    "height": "calc(100% - 180px)",
    "left": "10px",
    "top": "150px",
    "width": "296.475px"
   },
   "toc_section_display": true,
   "toc_window_display": false
  },
  "varInspector": {
   "cols": {
    "lenName": 16,
    "lenType": 16,
    "lenVar": 40
   },
   "kernels_config": {
    "python": {
     "delete_cmd_postfix": "",
     "delete_cmd_prefix": "del ",
     "library": "var_list.py",
     "varRefreshCmd": "print(var_dic_list())"
    },
    "r": {
     "delete_cmd_postfix": ") ",
     "delete_cmd_prefix": "rm(",
     "library": "var_list.r",
     "varRefreshCmd": "cat(var_dic_list()) "
    }
   },
   "types_to_exclude": [
    "module",
    "function",
    "builtin_function_or_method",
    "instance",
    "_Feature"
   ],
   "window_display": false
  }
 },
 "nbformat": 4,
 "nbformat_minor": 2
}

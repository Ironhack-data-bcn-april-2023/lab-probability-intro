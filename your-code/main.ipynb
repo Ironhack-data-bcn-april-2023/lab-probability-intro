{
 "cells": [
  {
   "cell_type": "markdown",
   "metadata": {},
   "source": [
    "# Probability"
   ]
  },
  {
   "cell_type": "markdown",
   "metadata": {},
   "source": [
    "## Challenge 1\n",
    "There is a box with 10 white balls, 12 red balls and 8 black balls. Calculate the probability of:\n",
    "* Taking a white ball out.\n",
    "* Taking a white ball on first extraction and a black ball out on second extraction without replacing the first one.\n",
    "* Taking a white ball on first extraction and a black ball out on second extraction replacing the first one.\n",
    "* Taking 3 balls and them being all different colours."
   ]
  },
  {
   "cell_type": "code",
   "execution_count": 1,
   "metadata": {},
   "outputs": [
    {
     "data": {
      "text/plain": [
       "30"
      ]
     },
     "execution_count": 1,
     "metadata": {},
     "output_type": "execute_result"
    }
   ],
   "source": [
    "w_balls = 10\n",
    "r_balls = 12\n",
    "b_balls = 8\n",
    "\n",
    "total_balls = w_balls + r_balls + b_balls\n",
    "total_balls"
   ]
  },
  {
   "cell_type": "code",
   "execution_count": 2,
   "metadata": {},
   "outputs": [
    {
     "data": {
      "text/plain": [
       "0.3333333333333333"
      ]
     },
     "execution_count": 2,
     "metadata": {},
     "output_type": "execute_result"
    }
   ],
   "source": [
    "# Taking a white ball out.\n",
    "\n",
    "one_w_ball = w_balls / total_balls\n",
    "one_w_ball"
   ]
  },
  {
   "cell_type": "code",
   "execution_count": 3,
   "metadata": {},
   "outputs": [
    {
     "data": {
      "text/plain": [
       "0.09195402298850575"
      ]
     },
     "execution_count": 3,
     "metadata": {},
     "output_type": "execute_result"
    }
   ],
   "source": [
    "# Taking a white ball on first extraction and a black ball out on second extraction without replacing the first one.\n",
    "\n",
    "P_w_ball_b_ball_WR = (w_balls/total_balls) * (b_balls/(total_balls-1))\n",
    "P_w_ball_b_ball_WR"
   ]
  },
  {
   "cell_type": "code",
   "execution_count": 4,
   "metadata": {},
   "outputs": [
    {
     "data": {
      "text/plain": [
       "0.08888888888888888"
      ]
     },
     "execution_count": 4,
     "metadata": {},
     "output_type": "execute_result"
    }
   ],
   "source": [
    "# Taking a white ball on first extraction and a black ball out on second extraction replacing the first one.\n",
    "\n",
    "P_w_ball_b_ball_R = (w_balls/total_balls) * (b_balls/total_balls)\n",
    "P_w_ball_b_ball_R"
   ]
  },
  {
   "cell_type": "code",
   "execution_count": 5,
   "metadata": {},
   "outputs": [
    {
     "data": {
      "text/plain": [
       "0.03940886699507389"
      ]
     },
     "execution_count": 5,
     "metadata": {},
     "output_type": "execute_result"
    }
   ],
   "source": [
    "# Taking 3 balls and them being all different colours.\n",
    "    # Without replacing\n",
    "\n",
    "st_ball_w = w_balls / total_balls\n",
    "nd_ball_b = b_balls / (total_balls-1)\n",
    "rd_ball_r = r_balls / (total_balls-2)\n",
    "\n",
    "\n",
    "P__balls_colors_WR = st_ball_w * nd_ball_b * rd_ball_r\n",
    "P__balls_colors_WR"
   ]
  },
  {
   "cell_type": "code",
   "execution_count": 6,
   "metadata": {},
   "outputs": [
    {
     "data": {
      "text/plain": [
       "0.035555555555555556"
      ]
     },
     "execution_count": 6,
     "metadata": {},
     "output_type": "execute_result"
    }
   ],
   "source": [
    "# Taking 3 balls and them being all different colours.\n",
    "    # With replacing\n",
    "\n",
    "P_ball_w = w_balls / total_balls\n",
    "P_ball_b = b_balls / total_balls\n",
    "P_ball_r = r_balls / total_balls\n",
    "\n",
    "\n",
    "P__balls_colors_R = P_ball_w * P_ball_b * P_ball_r\n",
    "P__balls_colors_R"
   ]
  },
  {
   "cell_type": "markdown",
   "metadata": {},
   "source": [
    "## Challenge 2\n",
    "\n",
    "You want to go on picnic on Saturday. You hate rain, and would know to plan your weekend. To help you make a decision, you gather the following data about rainy days:\n",
    "\n",
    "* 40% of all days are cloudy.\n",
    "* About 50% of cloudy days are rainy. \n",
    "* About 20% of non-cloudy days are rainy.\n",
    "\n",
    "What is the chance of rain during next Saturday?"
   ]
  },
  {
   "cell_type": "markdown",
   "metadata": {},
   "source": [
    "![rainy](images/rainy.jpg)"
   ]
  },
  {
   "cell_type": "code",
   "execution_count": 7,
   "metadata": {},
   "outputs": [
    {
     "data": {
      "text/plain": [
       "0.32"
      ]
     },
     "execution_count": 7,
     "metadata": {},
     "output_type": "execute_result"
    }
   ],
   "source": [
    "P_cloudy_rain = 0.4 * 0.5\n",
    "P_nocloudy_rain = 0.6 * 0.2\n",
    "\n",
    "P_rain = P_cloudy_rain + P_nocloudy_rain\n",
    "P_rain"
   ]
  },
  {
   "cell_type": "markdown",
   "metadata": {},
   "source": [
    "## Challenge 3\n",
    "\n",
    "A and B are events of a probability such that $P(A) = 0.3$, $P(B) = 0.6$ and $P(A \\cap B) = 0.1$\n",
    "\n",
    "Which of the following statements are true?  \n",
    "**HINT: draw a big Venn Diagram by your side**  \n",
    "* $P(\\overline{A}) = 0.7$\n",
    "* $P(A \\cup B) = 0.6$\n",
    "* $P(A \\cap \\overline{B}) = 0.2$\n",
    "* $P(A \\cup \\overline{A}) = 1$  \n",
    "* $P(A \\cap (B \\cup \\overline{B})) = 0.4$\n",
    "* $P(\\overline{A} \\cap \\overline{B}) = 0.3$\n",
    "* $P(\\overline{A \\cap B}) = 0.9$"
   ]
  },
  {
   "cell_type": "markdown",
   "metadata": {},
   "source": [
    "![AB](images/AB.jpg)"
   ]
  },
  {
   "cell_type": "markdown",
   "metadata": {},
   "source": [
    "* $P(\\overline{A}) = 0.7$\n",
    "    - True\n",
    "    - $P(\\overline{A}) = 1-P(A)$\n",
    "    - $P(\\overline{A}) = 1-0.3$\n",
    "    - $P(\\overline{A}) = 0.7$\n",
    "  \n",
    "  \n",
    "  \n",
    "* $P(A \\cup B) = 0.6$  \n",
    "    - False. \n",
    "    - $P(A \\cup B) = 𝑃(𝐴) + 𝑃(𝐵) - 𝑃(𝐴∩𝐵)$\n",
    "    - $P(A \\cup B) = 0.3 + 0.6 - 0.1$\n",
    "    - $P(A \\cup B) = 0.8$\n",
    "  \n",
    "  \n",
    "    \n",
    "* $P(A \\cap \\overline{B}) = 0.2$  \n",
    "     - True \n",
    "     - $P(A \\cap \\overline{B}) = 𝑃(𝐴) - 𝑃(𝐴∩𝐵)$\n",
    "  \n",
    "  \n",
    "     \n",
    "* $P(A \\cup \\overline{A}) = 1$  \n",
    "    - True\n",
    "    - The probability of an event and its complement always = 1. \n",
    "  \n",
    "  \n",
    "    \n",
    "* $P(A \\cap (B \\cup \\overline{B})) = 0.4$\n",
    "    - False\n",
    "    - is 0.3\n",
    "    - probability of event A occurring at the same time as any other possible event = P(A)\n",
    "  \n",
    "  \n",
    "\n",
    "* $P(\\overline{A} \\cap \\overline{B}) = 0.3$\n",
    "  \n",
    "  Probability that a does not occur and b does not occur (separately, each event could occur independently).\n",
    "    - False\n",
    "    - $𝑃(𝐴∪𝐵) = 𝑃(𝐴) + 𝑃(𝐵) - 𝑃(𝐴∩𝐵)$ \n",
    "    - $𝑃(𝐴∪𝐵) = 0.3 + 0.6 - 0.1$\n",
    "    - $𝑃(𝐴∪𝐵) = 0.8  $  \n",
    "    - $P(\\overline{A} \\cap \\overline{B}) = 1 - 𝑃(𝐴∪𝐵)$\n",
    "    - $P(\\overline{A} \\cap \\overline{B}) = 1 - 0.8$\n",
    "    - $P(\\overline{A} \\cap \\overline{B}) = 0.2 $\n",
    "  \n",
    "\n",
    "* $P(\\overline{A \\cap B}) = 0.9$\n",
    "  \n",
    "  Probability that neither a nor b occurs (together, they cannot occur simultaneously).\n",
    "    - True\n",
    "    - $P(\\overline{A \\cap B}) = 1 - P(\\overline{A} \\cap \\overline{B}$\n",
    "    - $P(\\overline{A \\cap B}) = 1 - 0.1 $\n",
    "    - $P(\\overline{A \\cap B}) = 0.9 $\n",
    "\n",
    "\n",
    "\n"
   ]
  },
  {
   "cell_type": "markdown",
   "metadata": {},
   "source": [
    "## Challenge 4\n",
    "\n",
    " * If someone flies to China, the probability of getting Covid is 1%  \n",
    " * If someone flies to Italy, the probability of getting Covid is 20%  \n",
    "\n",
    "I roll 1 dice with numbers 1, 2, 3, 4, 5, 6:  \n",
    " * If 1: I fly to Italy\n",
    " * If not 1: I fly to China\n",
    "\n",
    "During my trip, I got Covid. What is the probability that I flew to China?"
   ]
  },
  {
   "cell_type": "markdown",
   "metadata": {},
   "source": [
    "![china_italy](images/china_italy.jpg)"
   ]
  },
  {
   "cell_type": "code",
   "execution_count": 8,
   "metadata": {},
   "outputs": [
    {
     "data": {
      "text/plain": [
       "0.2"
      ]
     },
     "execution_count": 8,
     "metadata": {},
     "output_type": "execute_result"
    }
   ],
   "source": [
    "# BAYES\n",
    "PC = 5/6\n",
    "PI = 1/6  \n",
    "\n",
    "PCC = 0.01  \n",
    "PCI = 0.2  \n",
    "\n",
    "P_covid = PC * PCC + PI * PCI\n",
    "\n",
    "result = (PC * PCC / P_covid)\n",
    "result"
   ]
  },
  {
   "cell_type": "markdown",
   "metadata": {},
   "source": [
    "## BONUS\n",
    "\n",
    "You roll 2 dice. What is the probability that the sum of the numbers is 7? And 8? And 9? Then simulate 10000 times and draw a countplot."
   ]
  },
  {
   "cell_type": "markdown",
   "metadata": {},
   "source": [
    "your explanation here"
   ]
  },
  {
   "cell_type": "code",
   "execution_count": 9,
   "metadata": {},
   "outputs": [],
   "source": [
    "# your code here"
   ]
  },
  {
   "cell_type": "code",
   "execution_count": 10,
   "metadata": {},
   "outputs": [
    {
     "data": {
      "text/plain": [
       "'\\nyour solution here\\n'"
      ]
     },
     "execution_count": 10,
     "metadata": {},
     "output_type": "execute_result"
    }
   ],
   "source": [
    "\"\"\"\n",
    "your solution here\n",
    "\"\"\""
   ]
  }
 ],
 "metadata": {
  "kernelspec": {
   "display_name": "Python 3 (ipykernel)",
   "language": "python",
   "name": "python3"
  },
  "language_info": {
   "codemirror_mode": {
    "name": "ipython",
    "version": 3
   },
   "file_extension": ".py",
   "mimetype": "text/x-python",
   "name": "python",
   "nbconvert_exporter": "python",
   "pygments_lexer": "ipython3",
   "version": "3.9.12"
  },
  "toc": {
   "base_numbering": 1,
   "nav_menu": {},
   "number_sections": false,
   "sideBar": true,
   "skip_h1_title": false,
   "title_cell": "Table of Contents",
   "title_sidebar": "Contents",
   "toc_cell": false,
   "toc_position": {
    "height": "calc(100% - 180px)",
    "left": "10px",
    "top": "150px",
    "width": "296.475px"
   },
   "toc_section_display": true,
   "toc_window_display": false
  },
  "varInspector": {
   "cols": {
    "lenName": 16,
    "lenType": 16,
    "lenVar": 40
   },
   "kernels_config": {
    "python": {
     "delete_cmd_postfix": "",
     "delete_cmd_prefix": "del ",
     "library": "var_list.py",
     "varRefreshCmd": "print(var_dic_list())"
    },
    "r": {
     "delete_cmd_postfix": ") ",
     "delete_cmd_prefix": "rm(",
     "library": "var_list.r",
     "varRefreshCmd": "cat(var_dic_list()) "
    }
   },
   "types_to_exclude": [
    "module",
    "function",
    "builtin_function_or_method",
    "instance",
    "_Feature"
   ],
   "window_display": false
  }
 },
 "nbformat": 4,
 "nbformat_minor": 2
}
